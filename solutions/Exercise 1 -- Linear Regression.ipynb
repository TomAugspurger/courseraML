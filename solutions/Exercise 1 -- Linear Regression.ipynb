{
 "metadata": {
  "kernelspec": {
   "codemirror_mode": {
    "name": "python",
    "version": 3
   },
   "display_name": "Python 3",
   "language": "python",
   "name": "python3"
  },
  "name": "",
  "signature": "sha256:91c19814051193097da61f8735017a79016281035a4515cfdcc9b7384ce8f9fa"
 },
 "nbformat": 3,
 "nbformat_minor": 0,
 "worksheets": [
  {
   "cells": [
    {
     "cell_type": "code",
     "collapsed": false,
     "input": [
      "%matplotlib inline\n",
      "\n",
      "import numpy as np\n",
      "import pandas as pd\n",
      "import seaborn as sns\n",
      "import matplotlib.pyplot as plt"
     ],
     "language": "python",
     "metadata": {},
     "outputs": [],
     "prompt_number": 2
    },
    {
     "cell_type": "heading",
     "level": 3,
     "metadata": {},
     "source": [
      "Linear Regression with One Variable"
     ]
    },
    {
     "cell_type": "code",
     "collapsed": false,
     "input": [
      "# read in the data\n",
      "\n",
      "df = pd.read_csv('../files/mlclass-ex1-005/mlclass-ex1/ex1data1.txt',\n",
      "                 header=None, names=['popn', 'profit'])\n",
      "df['intercept'] = 1\n",
      "df.head()"
     ],
     "language": "python",
     "metadata": {},
     "outputs": [
      {
       "html": [
        "<div style=\"max-height:1000px;max-width:1500px;overflow:auto;\">\n",
        "<table border=\"1\" class=\"dataframe\">\n",
        "  <thead>\n",
        "    <tr style=\"text-align: right;\">\n",
        "      <th></th>\n",
        "      <th>popn</th>\n",
        "      <th>profit</th>\n",
        "      <th>intercept</th>\n",
        "    </tr>\n",
        "  </thead>\n",
        "  <tbody>\n",
        "    <tr>\n",
        "      <th>0</th>\n",
        "      <td> 6.1101</td>\n",
        "      <td> 17.5920</td>\n",
        "      <td> 1</td>\n",
        "    </tr>\n",
        "    <tr>\n",
        "      <th>1</th>\n",
        "      <td> 5.5277</td>\n",
        "      <td>  9.1302</td>\n",
        "      <td> 1</td>\n",
        "    </tr>\n",
        "    <tr>\n",
        "      <th>2</th>\n",
        "      <td> 8.5186</td>\n",
        "      <td> 13.6620</td>\n",
        "      <td> 1</td>\n",
        "    </tr>\n",
        "    <tr>\n",
        "      <th>3</th>\n",
        "      <td> 7.0032</td>\n",
        "      <td> 11.8540</td>\n",
        "      <td> 1</td>\n",
        "    </tr>\n",
        "    <tr>\n",
        "      <th>4</th>\n",
        "      <td> 5.8598</td>\n",
        "      <td>  6.8233</td>\n",
        "      <td> 1</td>\n",
        "    </tr>\n",
        "  </tbody>\n",
        "</table>\n",
        "</div>"
       ],
       "metadata": {},
       "output_type": "pyout",
       "prompt_number": 28,
       "text": [
        "     popn   profit  intercept\n",
        "0  6.1101  17.5920          1\n",
        "1  5.5277   9.1302          1\n",
        "2  8.5186  13.6620          1\n",
        "3  7.0032  11.8540          1\n",
        "4  5.8598   6.8233          1"
       ]
      }
     ],
     "prompt_number": 28
    },
    {
     "cell_type": "code",
     "collapsed": false,
     "input": [
      "x = df[['intercept', 'popn']].values\n",
      "y = df['profit'].values.reshape(-1, 1)"
     ],
     "language": "python",
     "metadata": {},
     "outputs": [],
     "prompt_number": 34
    },
    {
     "cell_type": "heading",
     "level": 3,
     "metadata": {},
     "source": [
      "Plotting the Data"
     ]
    },
    {
     "cell_type": "code",
     "collapsed": false,
     "input": [
      "df.plot(kind='scatter', x='popn', y='profit',\n",
      "        marker='x', color='r', linewidth=1)"
     ],
     "language": "python",
     "metadata": {},
     "outputs": [
      {
       "metadata": {},
       "output_type": "pyout",
       "prompt_number": 29,
       "text": [
        "<matplotlib.axes._subplots.AxesSubplot at 0x1164bff28>"
       ]
      },
      {
       "metadata": {},
       "output_type": "display_data",
       "png": "[encoded data removed]",
       "text": [
        "<matplotlib.figure.Figure at 0x115c54eb8>"
       ]
      }
     ],
     "prompt_number": 29
    },
    {
     "cell_type": "heading",
     "level": 3,
     "metadata": {},
     "source": [
      "Update Equations"
     ]
    },
    {
     "cell_type": "markdown",
     "metadata": {},
     "source": [
      "Objective function\n",
      "\n",
      "\\begin{equation}\n",
      "J(\\theta) = \\frac{1}{2m} \\sum_{i=1}^{m} \\left( h_{\\theta} (x^{(i)}) - y^{(i)} \\right)^2\n",
      "\\end{equation}\n",
      "\n",
      "where $h_{\\theta}(x) = \\theta^Tx = \\theta_0 + \\theta_1 x_1$."
     ]
    },
    {
     "cell_type": "code",
     "collapsed": false,
     "input": [
      "def batch_gradient_descent_update(theta, x, y, h, alpha=0.01):\n",
      "    \"\"\"\n",
      "    Update values of parameters in theta using\n",
      "    batch gradient descent.\n",
      "    \"\"\"\n",
      "    m = x.shape[0]\n",
      "    yhat = h(theta, x)\n",
      "    step = (alpha / m) * ((yhat - y) * x).sum(0).reshape(-1, 1)\n",
      "    theta_p = theta - step\n",
      "    return theta_p"
     ],
     "language": "python",
     "metadata": {},
     "outputs": [],
     "prompt_number": 143
    },
    {
     "cell_type": "code",
     "collapsed": false,
     "input": [
      "theta_0 = np.zeros(shape=(2, 1))\n",
      "\n",
      "def h(theta, x):\n",
      "    return x.dot(theta)\n",
      "\n",
      "batch_gradient_descent_update(theta_0, x, y, h)"
     ],
     "language": "python",
     "metadata": {},
     "outputs": [
      {
       "metadata": {},
       "output_type": "pyout",
       "prompt_number": 144,
       "text": [
        "array([[ 0.05839135],\n",
        "       [ 0.6532885 ]])"
       ]
      }
     ],
     "prompt_number": 144
    },
    {
     "cell_type": "heading",
     "level": 3,
     "metadata": {},
     "source": [
      "Computing the Cost"
     ]
    },
    {
     "cell_type": "code",
     "collapsed": false,
     "input": [
      "def cost(theta, x, y, h):\n",
      "    \"\"\"\n",
      "    Compute the cost of the objective function (MSE).\n",
      "    \"\"\"\n",
      "    m = x.shape[0]\n",
      "    yhat = h(theta, x)\n",
      "    e = yhat - y\n",
      "    return (e**2).mean() / 2\n",
      "\n",
      "cost(theta_0, x, y, h)"
     ],
     "language": "python",
     "metadata": {},
     "outputs": [
      {
       "metadata": {},
       "output_type": "pyout",
       "prompt_number": 145,
       "text": [
        "32.072733877455654"
       ]
      }
     ],
     "prompt_number": 145
    },
    {
     "cell_type": "heading",
     "level": 3,
     "metadata": {},
     "source": [
      "Gradient Descent"
     ]
    },
    {
     "cell_type": "code",
     "collapsed": false,
     "input": [
      "from functools import partial\n",
      "from itertools import islice\n",
      "\n",
      "def gd_iter(theta, x, y, h):\n",
      "    \"\"\"\n",
      "    Infinite iterable returning steps of the gradient descent.\n",
      "    \"\"\"\n",
      "    gd = partial(batch_gradient_descent_update, x=x, y=y, h=h)\n",
      "    while True:\n",
      "        theta = gd(theta)\n",
      "        yield theta\n"
     ],
     "language": "python",
     "metadata": {},
     "outputs": [],
     "prompt_number": 146
    },
    {
     "cell_type": "code",
     "collapsed": false,
     "input": [
      "# no \n",
      "theta_s = list(islice(gd_iter(theta_0, x=x, y=y, h=h), 1500, 1501))[0]\n",
      "print(theta_s)"
     ],
     "language": "python",
     "metadata": {},
     "outputs": [
      {
       "output_type": "stream",
       "stream": "stdout",
       "text": [
        "[[-3.63077001]\n",
        " [ 1.16641043]]\n"
       ]
      }
     ],
     "prompt_number": 147
    },
    {
     "cell_type": "code",
     "collapsed": false,
     "input": [
      "new = np.array([[1, 3.5],\n",
      "                [1, 7.0]])\n",
      "yhat = new.dot(theta_s)\n",
      "print(yhat)"
     ],
     "language": "python",
     "metadata": {},
     "outputs": [
      {
       "output_type": "stream",
       "stream": "stdout",
       "text": [
        "[[ 0.45166649]\n",
        " [ 4.53410299]]\n"
       ]
      }
     ],
     "prompt_number": 148
    },
    {
     "cell_type": "code",
     "collapsed": false,
     "input": [
      "fig, ax = plt.subplots()\n",
      "\n",
      "new = np.array([[1, df.popn.min()],\n",
      "                [1, df.popn.max()]])\n",
      "yhat = new.dot(theta_s)\n",
      "df.plot(kind='scatter', x='popn', y='profit',\n",
      "        marker='x', color='r', linewidth=1,\n",
      "        ax=ax)\n",
      "ax.plot(new[:, 1], yhat[:, 0])"
     ],
     "language": "python",
     "metadata": {},
     "outputs": [
      {
       "metadata": {},
       "output_type": "pyout",
       "prompt_number": 149,
       "text": [
        "[<matplotlib.lines.Line2D at 0x116b31fd0>]"
       ]
      },
      {
       "metadata": {},
       "output_type": "display_data",
       "png": "[encoded data removed]",
       "text": [
        "<matplotlib.figure.Figure at 0x1169e9ba8>"
       ]
      }
     ],
     "prompt_number": 149
    },
    {
     "cell_type": "heading",
     "level": 3,
     "metadata": {},
     "source": [
      "Visualizing the Cost"
     ]
    },
    {
     "cell_type": "code",
     "collapsed": false,
     "input": [
      "# By iteration\n",
      "\n",
      "n_iter = 1500\n",
      "costs = np.zeros(n_iter)\n",
      "gd = gd_iter(theta_0, x=x, y=y, h=h)\n",
      "\n",
      "for i in range(n_iter):\n",
      "    costs[i] = cost(next(gd), x=x, y=y, h=h)\n",
      "\n",
      "costs = pd.Series(costs)\n",
      "costs.plot()"
     ],
     "language": "python",
     "metadata": {},
     "outputs": [
      {
       "metadata": {},
       "output_type": "pyout",
       "prompt_number": 152,
       "text": [
        "<matplotlib.axes._subplots.AxesSubplot at 0x116a4c978>"
       ]
      },
      {
       "metadata": {},
       "output_type": "display_data",
       "png": "[encoded data removed]",
       "text": [
        "<matplotlib.figure.Figure at 0x116b014e0>"
       ]
      }
     ],
     "prompt_number": 152
    },
    {
     "cell_type": "code",
     "collapsed": false,
     "input": [
      "# TODO: countour plot"
     ],
     "language": "python",
     "metadata": {},
     "outputs": [],
     "prompt_number": 153
    },
    {
     "cell_type": "heading",
     "level": 1,
     "metadata": {},
     "source": [
      "Linear Regression with Multiple Variables"
     ]
    },
    {
     "cell_type": "code",
     "collapsed": false,
     "input": [
      "df = pd.read_csv('../files/mlclass-ex1-005/mlclass-ex1/ex1data2.txt',\n",
      "                 header=None,\n",
      "                 names=['size', 'bedrooms', 'price'])\n",
      "df['intercept'] = 1\n",
      "df.head()"
     ],
     "language": "python",
     "metadata": {},
     "outputs": [
      {
       "html": [
        "<div style=\"max-height:1000px;max-width:1500px;overflow:auto;\">\n",
        "<table border=\"1\" class=\"dataframe\">\n",
        "  <thead>\n",
        "    <tr style=\"text-align: right;\">\n",
        "      <th></th>\n",
        "      <th>size</th>\n",
        "      <th>bedrooms</th>\n",
        "      <th>price</th>\n",
        "      <th>intercept</th>\n",
        "    </tr>\n",
        "  </thead>\n",
        "  <tbody>\n",
        "    <tr>\n",
        "      <th>0</th>\n",
        "      <td> 2104</td>\n",
        "      <td> 3</td>\n",
        "      <td> 399900</td>\n",
        "      <td> 1</td>\n",
        "    </tr>\n",
        "    <tr>\n",
        "      <th>1</th>\n",
        "      <td> 1600</td>\n",
        "      <td> 3</td>\n",
        "      <td> 329900</td>\n",
        "      <td> 1</td>\n",
        "    </tr>\n",
        "    <tr>\n",
        "      <th>2</th>\n",
        "      <td> 2400</td>\n",
        "      <td> 3</td>\n",
        "      <td> 369000</td>\n",
        "      <td> 1</td>\n",
        "    </tr>\n",
        "    <tr>\n",
        "      <th>3</th>\n",
        "      <td> 1416</td>\n",
        "      <td> 2</td>\n",
        "      <td> 232000</td>\n",
        "      <td> 1</td>\n",
        "    </tr>\n",
        "    <tr>\n",
        "      <th>4</th>\n",
        "      <td> 3000</td>\n",
        "      <td> 4</td>\n",
        "      <td> 539900</td>\n",
        "      <td> 1</td>\n",
        "    </tr>\n",
        "  </tbody>\n",
        "</table>\n",
        "</div>"
       ],
       "metadata": {},
       "output_type": "pyout",
       "prompt_number": 164,
       "text": [
        "   size  bedrooms   price  intercept\n",
        "0  2104         3  399900          1\n",
        "1  1600         3  329900          1\n",
        "2  2400         3  369000          1\n",
        "3  1416         2  232000          1\n",
        "4  3000         4  539900          1"
       ]
      }
     ],
     "prompt_number": 164
    },
    {
     "cell_type": "heading",
     "level": 3,
     "metadata": {},
     "source": [
      "Feature Normalization"
     ]
    },
    {
     "cell_type": "code",
     "collapsed": false,
     "input": [
      "features = ['size', 'bedrooms']\n",
      "means = df[features].mean()\n",
      "stds = df[features].std()\n",
      "df[features] = df[features].sub(means).div(stds)\n",
      "df.head()"
     ],
     "language": "python",
     "metadata": {},
     "outputs": [
      {
       "html": [
        "<div style=\"max-height:1000px;max-width:1500px;overflow:auto;\">\n",
        "<table border=\"1\" class=\"dataframe\">\n",
        "  <thead>\n",
        "    <tr style=\"text-align: right;\">\n",
        "      <th></th>\n",
        "      <th>size</th>\n",
        "      <th>bedrooms</th>\n",
        "      <th>price</th>\n",
        "      <th>intercept</th>\n",
        "    </tr>\n",
        "  </thead>\n",
        "  <tbody>\n",
        "    <tr>\n",
        "      <th>0</th>\n",
        "      <td> 0.130010</td>\n",
        "      <td>-0.223675</td>\n",
        "      <td> 399900</td>\n",
        "      <td> 1</td>\n",
        "    </tr>\n",
        "    <tr>\n",
        "      <th>1</th>\n",
        "      <td>-0.504190</td>\n",
        "      <td>-0.223675</td>\n",
        "      <td> 329900</td>\n",
        "      <td> 1</td>\n",
        "    </tr>\n",
        "    <tr>\n",
        "      <th>2</th>\n",
        "      <td> 0.502476</td>\n",
        "      <td>-0.223675</td>\n",
        "      <td> 369000</td>\n",
        "      <td> 1</td>\n",
        "    </tr>\n",
        "    <tr>\n",
        "      <th>3</th>\n",
        "      <td>-0.735723</td>\n",
        "      <td>-1.537767</td>\n",
        "      <td> 232000</td>\n",
        "      <td> 1</td>\n",
        "    </tr>\n",
        "    <tr>\n",
        "      <th>4</th>\n",
        "      <td> 1.257476</td>\n",
        "      <td> 1.090417</td>\n",
        "      <td> 539900</td>\n",
        "      <td> 1</td>\n",
        "    </tr>\n",
        "  </tbody>\n",
        "</table>\n",
        "</div>"
       ],
       "metadata": {},
       "output_type": "pyout",
       "prompt_number": 316,
       "text": [
        "       size  bedrooms   price  intercept\n",
        "0  0.130010 -0.223675  399900          1\n",
        "1 -0.504190 -0.223675  329900          1\n",
        "2  0.502476 -0.223675  369000          1\n",
        "3 -0.735723 -1.537767  232000          1\n",
        "4  1.257476  1.090417  539900          1"
       ]
      }
     ],
     "prompt_number": 316
    },
    {
     "cell_type": "code",
     "collapsed": false,
     "input": [
      "x = df[['intercept'] + features].values\n",
      "y = df['price'].values.reshape(-1, 1)\n",
      "theta_0 = np.zeros(shape=(3, 1))"
     ],
     "language": "python",
     "metadata": {},
     "outputs": [],
     "prompt_number": 303
    },
    {
     "cell_type": "code",
     "collapsed": false,
     "input": [
      "gd = gd_iter(theta_0, x=x, y=y, h=h)\n",
      "theta_s = list(islice(gd, 1500, 1501))[0]"
     ],
     "language": "python",
     "metadata": {},
     "outputs": [],
     "prompt_number": 269
    },
    {
     "cell_type": "code",
     "collapsed": false,
     "input": [
      "new_x = pd.Series(np.array([1, 1650, 3]),\n",
      "                  index=['intercept'] + features)\n",
      "new_x = (new_x - means).div(stds).fillna(1)[['intercept'] + features].values"
     ],
     "language": "python",
     "metadata": {},
     "outputs": [],
     "prompt_number": 304
    },
    {
     "cell_type": "code",
     "collapsed": false,
     "input": [
      "yhat = new_x.dot(theta_s)\n",
      "print(yhat)"
     ],
     "language": "python",
     "metadata": {},
     "outputs": [
      {
       "output_type": "stream",
       "stream": "stdout",
       "text": [
        "[ 293100.973028]\n"
       ]
      }
     ],
     "prompt_number": 305
    },
    {
     "cell_type": "heading",
     "level": 3,
     "metadata": {},
     "source": [
      "Normal Equations"
     ]
    },
    {
     "cell_type": "markdown",
     "metadata": {},
     "source": [
      "We've got nice, closed-form solutions for linear regression, let's use them."
     ]
    },
    {
     "cell_type": "code",
     "collapsed": false,
     "input": [
      "try:\n",
      "    from scipy.linalg import inv\n",
      "except ImportError:\n",
      "    from numpy.linalg import inv\n",
      "\n",
      "def normal_equation(x, y):\n",
      "    return inv(x.T.dot(x)).dot(x.T).dot(y)"
     ],
     "language": "python",
     "metadata": {},
     "outputs": [],
     "prompt_number": 306
    },
    {
     "cell_type": "code",
     "collapsed": false,
     "input": [
      "x = df[['intercept'] + features].values\n",
      "\n",
      "theta_normal = normal_equation(x, y)"
     ],
     "language": "python",
     "metadata": {},
     "outputs": [],
     "prompt_number": 319
    },
    {
     "cell_type": "code",
     "collapsed": false,
     "input": [
      "new_x = np.array([1, 1650, 3])\n",
      "new_x.dot(theta_normal)"
     ],
     "language": "python",
     "metadata": {},
     "outputs": [
      {
       "metadata": {},
       "output_type": "pyout",
       "prompt_number": 320,
       "text": [
        "array([  1.82861697e+08])"
       ]
      }
     ],
     "prompt_number": 320
    }
   ],
   "metadata": {}
  }
 ]
}