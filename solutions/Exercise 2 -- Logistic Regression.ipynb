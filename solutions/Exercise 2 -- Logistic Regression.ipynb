{
 "metadata": {
  "kernelspec": {
   "codemirror_mode": {
    "name": "python",
    "version": 3
   },
   "display_name": "Python 3",
   "language": "python",
   "name": "python3"
  },
  "name": "",
  "signature": "sha256:885698178ae5ca340138f43068349e1c7a0f983dd390ebbe803f5c2b44a4c7dc"
 },
 "nbformat": 3,
 "nbformat_minor": 0,
 "worksheets": [
  {
   "cells": [
    {
     "cell_type": "code",
     "collapsed": false,
     "input": [
      "%matplotlib inline\n",
      "\n",
      "import numpy as np\n",
      "import pandas as pd\n",
      "import seaborn as sns\n",
      "import matplotlib.pyplot as plt"
     ],
     "language": "python",
     "metadata": {},
     "outputs": [],
     "prompt_number": 219
    },
    {
     "cell_type": "code",
     "collapsed": false,
     "input": [
      "df = pd.read_csv('../files/mlclass-ex2-005/mlclass-ex2/ex2data1.txt',\n",
      "                 header=None, names=['score1', 'score2', 'admitted'])\n",
      "\n",
      "df['intercept'] = 1\n",
      "features = ['intercept', 'score1', 'score2']\n",
      "\n",
      "x = df[features].values\n",
      "y = df['admitted'].values.reshape(-1, 1)"
     ],
     "language": "python",
     "metadata": {},
     "outputs": [],
     "prompt_number": 292
    },
    {
     "cell_type": "code",
     "collapsed": false,
     "input": [
      "df.head()"
     ],
     "language": "python",
     "metadata": {},
     "outputs": [
      {
       "html": [
        "<div style=\"max-height:1000px;max-width:1500px;overflow:auto;\">\n",
        "<table border=\"1\" class=\"dataframe\">\n",
        "  <thead>\n",
        "    <tr style=\"text-align: right;\">\n",
        "      <th></th>\n",
        "      <th>score1</th>\n",
        "      <th>score2</th>\n",
        "      <th>admitted</th>\n",
        "      <th>intercept</th>\n",
        "    </tr>\n",
        "  </thead>\n",
        "  <tbody>\n",
        "    <tr>\n",
        "      <th>0</th>\n",
        "      <td> 34.623660</td>\n",
        "      <td> 78.024693</td>\n",
        "      <td> 0</td>\n",
        "      <td> 1</td>\n",
        "    </tr>\n",
        "    <tr>\n",
        "      <th>1</th>\n",
        "      <td> 30.286711</td>\n",
        "      <td> 43.894998</td>\n",
        "      <td> 0</td>\n",
        "      <td> 1</td>\n",
        "    </tr>\n",
        "    <tr>\n",
        "      <th>2</th>\n",
        "      <td> 35.847409</td>\n",
        "      <td> 72.902198</td>\n",
        "      <td> 0</td>\n",
        "      <td> 1</td>\n",
        "    </tr>\n",
        "    <tr>\n",
        "      <th>3</th>\n",
        "      <td> 60.182599</td>\n",
        "      <td> 86.308552</td>\n",
        "      <td> 1</td>\n",
        "      <td> 1</td>\n",
        "    </tr>\n",
        "    <tr>\n",
        "      <th>4</th>\n",
        "      <td> 79.032736</td>\n",
        "      <td> 75.344376</td>\n",
        "      <td> 1</td>\n",
        "      <td> 1</td>\n",
        "    </tr>\n",
        "  </tbody>\n",
        "</table>\n",
        "</div>"
       ],
       "metadata": {},
       "output_type": "pyout",
       "prompt_number": 293,
       "text": [
        "      score1     score2  admitted  intercept\n",
        "0  34.623660  78.024693         0          1\n",
        "1  30.286711  43.894998         0          1\n",
        "2  35.847409  72.902198         0          1\n",
        "3  60.182599  86.308552         1          1\n",
        "4  79.032736  75.344376         1          1"
       ]
      }
     ],
     "prompt_number": 293
    },
    {
     "cell_type": "code",
     "collapsed": false,
     "input": [
      "def plot_admitted(df, x1, x2, y, ax=None):\n",
      "    if ax is None:\n",
      "        fig, ax = plt.subplots()\n",
      "\n",
      "    for status, color, marker in zip([0, 1], ['y', 'b'],\n",
      "                                     ['x', '+']):\n",
      "\n",
      "        ax.scatter(x=df[df[y] == status][x1],\n",
      "                   y=df[df[y] == status][x2],\n",
      "                   marker=marker, linewidth=1.5,\n",
      "                   color=color)\n",
      "\n",
      "    ax.legend(['not admitted', 'admitted'])\n",
      "    ax.set_xlabel(\"Exam 1 score\")\n",
      "    ax.set_ylabel(\"Exam 2 score\")\n",
      "    return ax\n",
      "\n",
      "ax = plot_admitted(df, 'score1', 'score2', 'admitted')"
     ],
     "language": "python",
     "metadata": {},
     "outputs": [
      {
       "metadata": {},
       "output_type": "display_data",
       "png": "[encoded data removed]",
       "text": [
        "<matplotlib.figure.Figure at 0x118411400>"
       ]
      }
     ],
     "prompt_number": 294
    },
    {
     "cell_type": "code",
     "collapsed": false,
     "input": [
      "def h(theta, x):\n",
      "    return sigmoid(x.dot(theta))\n",
      "\n",
      "def sigmoid(z):\n",
      "    return 1 / (1 + np.exp(-z))\n"
     ],
     "language": "python",
     "metadata": {},
     "outputs": [],
     "prompt_number": 295
    },
    {
     "cell_type": "code",
     "collapsed": false,
     "input": [
      "print(sigmoid(np.array([0])))"
     ],
     "language": "python",
     "metadata": {},
     "outputs": [
      {
       "output_type": "stream",
       "stream": "stdout",
       "text": [
        "[ 0.5]\n"
       ]
      }
     ],
     "prompt_number": 296
    },
    {
     "cell_type": "heading",
     "level": 3,
     "metadata": {},
     "source": [
      "Cost Function and Gradient"
     ]
    },
    {
     "cell_type": "code",
     "collapsed": false,
     "input": [
      "def cost(theta, x, y, h):\n",
      "    \"\"\"\n",
      "    \"\"\"\n",
      "    yhat = h(theta, x).reshape(-1, 1)\n",
      "    e = -y * np.log(yhat) - (1 - y) * np.log(1 - yhat)\n",
      "    return e.mean()\n"
     ],
     "language": "python",
     "metadata": {},
     "outputs": [],
     "prompt_number": 297
    },
    {
     "cell_type": "code",
     "collapsed": false,
     "input": [
      "theta = np.zeros(shape=(3, 1))\n",
      "c = cost(theta, x, y, h)\n",
      "print(\"The cost at theta_0 is {0:.4}.\".format(c))"
     ],
     "language": "python",
     "metadata": {},
     "outputs": [
      {
       "output_type": "stream",
       "stream": "stdout",
       "text": [
        "The cost at theta_0 is 0.6931.\n"
       ]
      }
     ],
     "prompt_number": 298
    },
    {
     "cell_type": "heading",
     "level": 3,
     "metadata": {},
     "source": [
      "Learning Parameters usning `fminunc` (`fmin`)"
     ]
    },
    {
     "cell_type": "code",
     "collapsed": false,
     "input": [
      "from functools import partial\n",
      "from scipy.optimize import fmin\n",
      "\n",
      "c = partial(cost, x=x, y=y, h=h)\n",
      "theta_s = fmin(c, theta)\n",
      "print(\"\u0398* = {}\".format(theta_s))"
     ],
     "language": "python",
     "metadata": {},
     "outputs": [
      {
       "output_type": "stream",
       "stream": "stdout",
       "text": [
        "Optimization terminated successfully.\n",
        "         Current function value: 0.203498\n",
        "         Iterations: 157\n",
        "         Function evaluations: 287\n",
        "\u0398* = [-25.16130062   0.20623142   0.20147143]\n"
       ]
      }
     ],
     "prompt_number": 299
    },
    {
     "cell_type": "code",
     "collapsed": false,
     "input": [
      "def plot_boundry(theta, x):\n",
      "    \"\"\"\n",
      "    \"\"\"\n",
      "    px = np.array([x[:, 1].min() - 2, x[:, 1].max() + 2])\n",
      "    py = (-1 / theta[2]) * (theta[1] * px + theta[0])\n",
      "    fig, ax = plt.subplots()\n",
      "    ax.plot(px, py)\n",
      "    return ax\n",
      "\n",
      "ax = plot_boundry(theta_s, x)\n",
      "ax = plot_admitted(df, 'score1', 'score2', 'admitted', ax=ax)\n",
      "ax.legend(['admission cuttof', 'not admitted', 'admitted'])"
     ],
     "language": "python",
     "metadata": {},
     "outputs": [
      {
       "metadata": {},
       "output_type": "pyout",
       "prompt_number": 302,
       "text": [
        "<matplotlib.legend.Legend at 0x118eb85c0>"
       ]
      },
      {
       "metadata": {},
       "output_type": "display_data",
       "png": "[encoded data removed]",
       "text": [
        "<matplotlib.figure.Figure at 0x118e99208>"
       ]
      }
     ],
     "prompt_number": 302
    },
    {
     "cell_type": "heading",
     "level": 3,
     "metadata": {},
     "source": [
      "Evaluating Logistic Regression"
     ]
    },
    {
     "cell_type": "code",
     "collapsed": false,
     "input": [
      "def predict(theta, x):\n",
      "    return h(theta, x)"
     ],
     "language": "python",
     "metadata": {},
     "outputs": [],
     "prompt_number": 303
    },
    {
     "cell_type": "code",
     "collapsed": false,
     "input": [
      "xn = np.array([1, 45, 85]).reshape(1, -1)\n",
      "print(\"Probability of acceptence: {}.\".format(h(theta_s, xn)))"
     ],
     "language": "python",
     "metadata": {},
     "outputs": [
      {
       "output_type": "stream",
       "stream": "stdout",
       "text": [
        "Probability of acceptence: [ 0.77629159].\n"
       ]
      }
     ],
     "prompt_number": 304
    },
    {
     "cell_type": "heading",
     "level": 1,
     "metadata": {},
     "source": [
      "Regularized Logistic Regression"
     ]
    },
    {
     "cell_type": "code",
     "collapsed": false,
     "input": [
      "df = pd.read_csv('../files/mlclass-ex2-005/mlclass-ex2/ex2data2.txt',\n",
      "                 header=None, names=['t1', 't2', 'accepted'])\n",
      "df['intercept'] = 1\n",
      "df.head()"
     ],
     "language": "python",
     "metadata": {},
     "outputs": [
      {
       "html": [
        "<div style=\"max-height:1000px;max-width:1500px;overflow:auto;\">\n",
        "<table border=\"1\" class=\"dataframe\">\n",
        "  <thead>\n",
        "    <tr style=\"text-align: right;\">\n",
        "      <th></th>\n",
        "      <th>t1</th>\n",
        "      <th>t2</th>\n",
        "      <th>accepted</th>\n",
        "      <th>intercept</th>\n",
        "    </tr>\n",
        "  </thead>\n",
        "  <tbody>\n",
        "    <tr>\n",
        "      <th>0</th>\n",
        "      <td> 0.051267</td>\n",
        "      <td> 0.69956</td>\n",
        "      <td> 1</td>\n",
        "      <td> 1</td>\n",
        "    </tr>\n",
        "    <tr>\n",
        "      <th>1</th>\n",
        "      <td>-0.092742</td>\n",
        "      <td> 0.68494</td>\n",
        "      <td> 1</td>\n",
        "      <td> 1</td>\n",
        "    </tr>\n",
        "    <tr>\n",
        "      <th>2</th>\n",
        "      <td>-0.213710</td>\n",
        "      <td> 0.69225</td>\n",
        "      <td> 1</td>\n",
        "      <td> 1</td>\n",
        "    </tr>\n",
        "    <tr>\n",
        "      <th>3</th>\n",
        "      <td>-0.375000</td>\n",
        "      <td> 0.50219</td>\n",
        "      <td> 1</td>\n",
        "      <td> 1</td>\n",
        "    </tr>\n",
        "    <tr>\n",
        "      <th>4</th>\n",
        "      <td>-0.513250</td>\n",
        "      <td> 0.46564</td>\n",
        "      <td> 1</td>\n",
        "      <td> 1</td>\n",
        "    </tr>\n",
        "  </tbody>\n",
        "</table>\n",
        "</div>"
       ],
       "metadata": {},
       "output_type": "pyout",
       "prompt_number": 308,
       "text": [
        "         t1       t2  accepted  intercept\n",
        "0  0.051267  0.69956         1          1\n",
        "1 -0.092742  0.68494         1          1\n",
        "2 -0.213710  0.69225         1          1\n",
        "3 -0.375000  0.50219         1          1\n",
        "4 -0.513250  0.46564         1          1"
       ]
      }
     ],
     "prompt_number": 308
    },
    {
     "cell_type": "code",
     "collapsed": false,
     "input": [
      "plot_admitted(df, 't1', 't2', 'accepted')"
     ],
     "language": "python",
     "metadata": {},
     "outputs": [
      {
       "metadata": {},
       "output_type": "pyout",
       "prompt_number": 309,
       "text": [
        "<matplotlib.axes._subplots.AxesSubplot at 0x118de1898>"
       ]
      },
      {
       "metadata": {},
       "output_type": "display_data",
       "png": "[encoded data removed]",
       "text": [
        "<matplotlib.figure.Figure at 0x118e724a8>"
       ]
      }
     ],
     "prompt_number": 309
    },
    {
     "cell_type": "code",
     "collapsed": false,
     "input": [
      "features = ['intercept', 't1', 't2']\n",
      "x = df[features].values\n",
      "y = df.accepted.values.reshape(-1, 1)"
     ],
     "language": "python",
     "metadata": {},
     "outputs": [],
     "prompt_number": 312
    },
    {
     "cell_type": "code",
     "collapsed": false,
     "input": [
      "from itertools import product"
     ],
     "language": "python",
     "metadata": {},
     "outputs": [],
     "prompt_number": 319
    },
    {
     "cell_type": "code",
     "collapsed": false,
     "input": [
      "[1, x1, x2, x1*x2, x1**2, x2**2,\n",
      " x1**2 * x2, x2**2 * x1, x1**3, x2**3,\n",
      " x1**3 * x2, x1**2 * x2**2, x1 * x2**3, x1**4, x2**4,\n",
      " x1**5, x1**4 * x2, x1**3 * x2, x1 ** ]"
     ],
     "language": "python",
     "metadata": {},
     "outputs": [
      {
       "metadata": {},
       "output_type": "pyout",
       "prompt_number": 323,
       "text": [
        "36"
       ]
      }
     ],
     "prompt_number": 323
    },
    {
     "cell_type": "code",
     "collapsed": false,
     "input": [
      "import patsy"
     ],
     "language": "python",
     "metadata": {},
     "outputs": [],
     "prompt_number": 325
    },
    {
     "cell_type": "code",
     "collapsed": false,
     "input": [
      "def map_features(x, n=2):\n",
      "    \"\"\"\n",
      "    Expand the basis to all powers up to and including n.\n",
      "    \"\"\"\n",
      "    bases = []\n",
      "    for i in range(n+1):\n",
      "        for j in range(i+1):\n",
      "            # TODO: make this not resticted to 2d\n",
      "            bases.append(x[:, 1]**i * x[:, 2]**j)\n",
      "    return np.array(bases).T"
     ],
     "language": "python",
     "metadata": {},
     "outputs": [],
     "prompt_number": 373
    },
    {
     "cell_type": "code",
     "collapsed": false,
     "input": [
      "ex = map_features(x, n=6)"
     ],
     "language": "python",
     "metadata": {},
     "outputs": [],
     "prompt_number": 374
    },
    {
     "cell_type": "code",
     "collapsed": false,
     "input": [
      "ex.shape"
     ],
     "language": "python",
     "metadata": {},
     "outputs": [
      {
       "metadata": {},
       "output_type": "pyout",
       "prompt_number": 372,
       "text": [
        "(118, 28)"
       ]
      }
     ],
     "prompt_number": 372
    },
    {
     "cell_type": "heading",
     "level": 3,
     "metadata": {},
     "source": [
      "Cost Function and Gradient"
     ]
    },
    {
     "cell_type": "code",
     "collapsed": false,
     "input": [
      "def regularized_cost(theta, x, y, h, lambda_=0):\n",
      "    \"\"\"\n",
      "    \n",
      "    \"\"\"\n",
      "    m = x.shape[0]\n",
      "    yhat = h(theta, x).reshape(-1, 1)\n",
      "    e = -y * np.log(yhat) - (1 - y) * np.log(1 - yhat)\n",
      "    penalty = (lambda_ / m) * (theta[1:]**2).sum()\n",
      "    return e.mean() - penalty"
     ],
     "language": "python",
     "metadata": {},
     "outputs": [],
     "prompt_number": 388
    },
    {
     "cell_type": "code",
     "collapsed": false,
     "input": [
      "regularized_cost(theta, x, y, h, lambda_=0.5)"
     ],
     "language": "python",
     "metadata": {},
     "outputs": [
      {
       "metadata": {},
       "output_type": "pyout",
       "prompt_number": 389,
       "text": [
        "0.69314718055994606"
       ]
      }
     ],
     "prompt_number": 389
    },
    {
     "cell_type": "code",
     "collapsed": false,
     "input": [
      "c = partial(regularized_cost,\n",
      "            x=x, y=y, h=h, lambda_=0.5)\n",
      "theta_s = fmin(c, theta)\n",
      "print(theta_s)"
     ],
     "language": "python",
     "metadata": {},
     "outputs": [
      {
       "output_type": "stream",
       "stream": "stdout",
       "text": [
        "Optimization terminated successfully.\n",
        "         Current function value: 0.689783\n",
        "         Iterations: 118\n",
        "         Function evaluations: 213\n",
        "[-0.00956756 -0.35490015 -0.02857328]\n"
       ]
      }
     ],
     "prompt_number": 398
    },
    {
     "cell_type": "code",
     "collapsed": false,
     "input": [
      "# TODO: plot decision boundry"
     ],
     "language": "python",
     "metadata": {},
     "outputs": [],
     "prompt_number": 399
    },
    {
     "cell_type": "code",
     "collapsed": false,
     "input": [],
     "language": "python",
     "metadata": {},
     "outputs": []
    }
   ],
   "metadata": {}
  }
 ]
}