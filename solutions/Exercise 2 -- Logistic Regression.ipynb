{
 "metadata": {
  "name": "",
  "signature": "sha256:1ce3e62db8a4b05f9382f72ba5d13c1664e2dbd833d57c444e739ded0cfa13af"
 },
 "nbformat": 3,
 "nbformat_minor": 0,
 "worksheets": []
}